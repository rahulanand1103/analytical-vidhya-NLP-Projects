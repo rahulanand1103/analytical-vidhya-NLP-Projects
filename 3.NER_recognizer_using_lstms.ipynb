{
  "nbformat": 4,
  "nbformat_minor": 0,
  "metadata": {
    "colab": {
      "name": "NER recognizer using lstms.ipynb",
      "provenance": []
    },
    "kernelspec": {
      "name": "python3",
      "display_name": "Python 3"
    }
  },
  "cells": [
    {
      "cell_type": "code",
      "metadata": {
        "id": "XKi9mHwc5ues",
        "colab_type": "code",
        "colab": {}
      },
      "source": [
        "import numpy as np # linear algebra\n",
        "import pandas as pd\n",
        "import tensorflow as tf\n",
        "import matplotlib.pyplot as plt\n",
        "%matplotlib inline"
      ],
      "execution_count": 28,
      "outputs": []
    },
    {
      "cell_type": "code",
      "metadata": {
        "id": "aYPmHLEh5xTy",
        "colab_type": "code",
        "colab": {
          "base_uri": "https://localhost:8080/",
          "height": 204
        },
        "outputId": "d064b74a-9516-4017-a03c-32db5b642dd3"
      },
      "source": [
        "data = pd.read_csv(\"ner_dataset.csv\",encoding = 'latin1')\n",
        "data = data.fillna(method = 'ffill')\n",
        "data.head()\n",
        "# data.shape"
      ],
      "execution_count": 29,
      "outputs": [
        {
          "output_type": "execute_result",
          "data": {
            "text/html": [
              "<div>\n",
              "<style scoped>\n",
              "    .dataframe tbody tr th:only-of-type {\n",
              "        vertical-align: middle;\n",
              "    }\n",
              "\n",
              "    .dataframe tbody tr th {\n",
              "        vertical-align: top;\n",
              "    }\n",
              "\n",
              "    .dataframe thead th {\n",
              "        text-align: right;\n",
              "    }\n",
              "</style>\n",
              "<table border=\"1\" class=\"dataframe\">\n",
              "  <thead>\n",
              "    <tr style=\"text-align: right;\">\n",
              "      <th></th>\n",
              "      <th>Sentence #</th>\n",
              "      <th>Word</th>\n",
              "      <th>POS</th>\n",
              "      <th>Tag</th>\n",
              "    </tr>\n",
              "  </thead>\n",
              "  <tbody>\n",
              "    <tr>\n",
              "      <th>0</th>\n",
              "      <td>Sentence: 1</td>\n",
              "      <td>Thousands</td>\n",
              "      <td>NNS</td>\n",
              "      <td>O</td>\n",
              "    </tr>\n",
              "    <tr>\n",
              "      <th>1</th>\n",
              "      <td>Sentence: 1</td>\n",
              "      <td>of</td>\n",
              "      <td>IN</td>\n",
              "      <td>O</td>\n",
              "    </tr>\n",
              "    <tr>\n",
              "      <th>2</th>\n",
              "      <td>Sentence: 1</td>\n",
              "      <td>demonstrators</td>\n",
              "      <td>NNS</td>\n",
              "      <td>O</td>\n",
              "    </tr>\n",
              "    <tr>\n",
              "      <th>3</th>\n",
              "      <td>Sentence: 1</td>\n",
              "      <td>have</td>\n",
              "      <td>VBP</td>\n",
              "      <td>O</td>\n",
              "    </tr>\n",
              "    <tr>\n",
              "      <th>4</th>\n",
              "      <td>Sentence: 1</td>\n",
              "      <td>marched</td>\n",
              "      <td>VBN</td>\n",
              "      <td>O</td>\n",
              "    </tr>\n",
              "  </tbody>\n",
              "</table>\n",
              "</div>"
            ],
            "text/plain": [
              "    Sentence #           Word  POS Tag\n",
              "0  Sentence: 1      Thousands  NNS   O\n",
              "1  Sentence: 1             of   IN   O\n",
              "2  Sentence: 1  demonstrators  NNS   O\n",
              "3  Sentence: 1           have  VBP   O\n",
              "4  Sentence: 1        marched  VBN   O"
            ]
          },
          "metadata": {
            "tags": []
          },
          "execution_count": 29
        }
      ]
    },
    {
      "cell_type": "code",
      "metadata": {
        "id": "N7P0QltW52Og",
        "colab_type": "code",
        "colab": {
          "base_uri": "https://localhost:8080/",
          "height": 102
        },
        "outputId": "968607ab-9cb8-434c-a5e4-4184f2af4b43"
      },
      "source": [
        "data.nunique()"
      ],
      "execution_count": 30,
      "outputs": [
        {
          "output_type": "execute_result",
          "data": {
            "text/plain": [
              "Sentence #    47959\n",
              "Word          35178\n",
              "POS              42\n",
              "Tag              17\n",
              "dtype: int64"
            ]
          },
          "metadata": {
            "tags": []
          },
          "execution_count": 30
        }
      ]
    },
    {
      "cell_type": "code",
      "metadata": {
        "id": "tAcerX9_55ie",
        "colab_type": "code",
        "colab": {
          "base_uri": "https://localhost:8080/",
          "height": 34
        },
        "outputId": "860c66f8-0694-4b73-f6db-b3425db8e16c"
      },
      "source": [
        "words = list(set(data[\"Word\"].values))\n",
        "words.append(\"ENDPAD\")\n",
        "num_words = len(words)\n",
        "num_words"
      ],
      "execution_count": 31,
      "outputs": [
        {
          "output_type": "execute_result",
          "data": {
            "text/plain": [
              "35179"
            ]
          },
          "metadata": {
            "tags": []
          },
          "execution_count": 31
        }
      ]
    },
    {
      "cell_type": "code",
      "metadata": {
        "id": "EymFj-Qt57QR",
        "colab_type": "code",
        "colab": {
          "base_uri": "https://localhost:8080/",
          "height": 34
        },
        "outputId": "76983a8b-6a08-4ec8-e1bc-bc2398375657"
      },
      "source": [
        "words_tag = list(set(data[\"Tag\"].values))\n",
        "# words_tag.append(\"ENDPAD\")\n",
        "num_words_tag = len(words_tag)\n",
        "num_words_tag"
      ],
      "execution_count": 32,
      "outputs": [
        {
          "output_type": "execute_result",
          "data": {
            "text/plain": [
              "17"
            ]
          },
          "metadata": {
            "tags": []
          },
          "execution_count": 32
        }
      ]
    },
    {
      "cell_type": "code",
      "metadata": {
        "id": "iUe7TKh558s8",
        "colab_type": "code",
        "colab": {}
      },
      "source": [
        "num_words,num_words_tag\n",
        "group = data.groupby(data[\"Sentence #\"])"
      ],
      "execution_count": 33,
      "outputs": []
    },
    {
      "cell_type": "code",
      "metadata": {
        "id": "6m9jCtD25-ZY",
        "colab_type": "code",
        "colab": {}
      },
      "source": [
        "class Get_sentence(object):\n",
        "    def __init__(self,data):\n",
        "        self.n_sent=1\n",
        "        self.data = data\n",
        "        agg_func = lambda s:[(w,p,t) for w,p,t in zip(s[\"Word\"].values.tolist(),\n",
        "                                                     s[\"POS\"].values.tolist(),\n",
        "                                                     s[\"Tag\"].values.tolist())]\n",
        "        self.grouped = self.data.groupby(\"Sentence #\").apply(agg_func)\n",
        "        self.sentences = [s for s in self.grouped]"
      ],
      "execution_count": 34,
      "outputs": []
    },
    {
      "cell_type": "code",
      "metadata": {
        "id": "fQJjP55e6BJX",
        "colab_type": "code",
        "colab": {
          "base_uri": "https://localhost:8080/",
          "height": 425
        },
        "outputId": "1ac9e671-461e-4567-f610-4281c7b43fb0"
      },
      "source": [
        "getter = Get_sentence(data)\n",
        "sentence = getter.sentences\n",
        "sentence[0]"
      ],
      "execution_count": 35,
      "outputs": [
        {
          "output_type": "execute_result",
          "data": {
            "text/plain": [
              "[('Thousands', 'NNS', 'O'),\n",
              " ('of', 'IN', 'O'),\n",
              " ('demonstrators', 'NNS', 'O'),\n",
              " ('have', 'VBP', 'O'),\n",
              " ('marched', 'VBN', 'O'),\n",
              " ('through', 'IN', 'O'),\n",
              " ('London', 'NNP', 'B-geo'),\n",
              " ('to', 'TO', 'O'),\n",
              " ('protest', 'VB', 'O'),\n",
              " ('the', 'DT', 'O'),\n",
              " ('war', 'NN', 'O'),\n",
              " ('in', 'IN', 'O'),\n",
              " ('Iraq', 'NNP', 'B-geo'),\n",
              " ('and', 'CC', 'O'),\n",
              " ('demand', 'VB', 'O'),\n",
              " ('the', 'DT', 'O'),\n",
              " ('withdrawal', 'NN', 'O'),\n",
              " ('of', 'IN', 'O'),\n",
              " ('British', 'JJ', 'B-gpe'),\n",
              " ('troops', 'NNS', 'O'),\n",
              " ('from', 'IN', 'O'),\n",
              " ('that', 'DT', 'O'),\n",
              " ('country', 'NN', 'O'),\n",
              " ('.', '.', 'O')]"
            ]
          },
          "metadata": {
            "tags": []
          },
          "execution_count": 35
        }
      ]
    },
    {
      "cell_type": "code",
      "metadata": {
        "id": "XFC75XdI6DGw",
        "colab_type": "code",
        "colab": {}
      },
      "source": [
        "word_idx = {w : i+1 for i ,w in enumerate(words)}\n",
        "tag_idx =  {t : i for i ,t in enumerate(words_tag)}"
      ],
      "execution_count": 36,
      "outputs": []
    },
    {
      "cell_type": "code",
      "metadata": {
        "id": "9PcdFiMl6E-S",
        "colab_type": "code",
        "colab": {
          "base_uri": "https://localhost:8080/",
          "height": 279
        },
        "outputId": "e54526ec-d314-4080-a276-20ff6bc1166f"
      },
      "source": [
        "plt.hist([len(s) for s in sentence],bins= 50)\n",
        "plt.xlabel(\"Length of Sentences\")\n",
        "plt.show()"
      ],
      "execution_count": 37,
      "outputs": [
        {
          "output_type": "display_data",
          "data": {
            "image/png": "[encoded data removed]",
            "text/plain": [
              "<Figure size 432x288 with 1 Axes>"
            ]
          },
          "metadata": {
            "tags": [],
            "needs_background": "light"
          }
        }
      ]
    },
    {
      "cell_type": "code",
      "metadata": {
        "id": "MHeR88Xw6Gtx",
        "colab_type": "code",
        "colab": {}
      },
      "source": [
        "from tensorflow.keras.preprocessing.sequence import pad_sequences\n",
        "from tensorflow.keras.utils import to_categorical\n",
        "\n",
        "max_len = 50\n",
        "X = [[word_idx[w[0]] for w in s] for s in sentence]\n",
        "X = pad_sequences(maxlen = max_len,sequences = X,padding = 'post',value = num_words-1)\n",
        "y = [[tag_idx[w[2]] for w in s] for s in sentence]\n",
        "y = pad_sequences(maxlen = max_len,sequences = y,padding = 'post',value = tag_idx['O'])\n",
        "y = [to_categorical(i,num_classes = num_words_tag) for i in  y]"
      ],
      "execution_count": 38,
      "outputs": []
    },
    {
      "cell_type": "code",
      "metadata": {
        "id": "DZwpiMWN6I_j",
        "colab_type": "code",
        "colab": {}
      },
      "source": [
        "from sklearn.model_selection import train_test_split\n",
        "x_train,x_test,y_train,y_test = train_test_split(X,y,test_size = 0.1,random_state=1)"
      ],
      "execution_count": 39,
      "outputs": []
    },
    {
      "cell_type": "code",
      "metadata": {
        "id": "by5Vaa4U6KdZ",
        "colab_type": "code",
        "colab": {}
      },
      "source": [
        "from tensorflow.keras import Model,Input\n",
        "from tensorflow.keras.layers import LSTM,Embedding,Dense\n",
        "from tensorflow.keras.layers import TimeDistributed, SpatialDropout1D,Bidirectional"
      ],
      "execution_count": 40,
      "outputs": []
    },
    {
      "cell_type": "code",
      "metadata": {
        "id": "py-06-TB6aJs",
        "colab_type": "code",
        "colab": {
          "base_uri": "https://localhost:8080/",
          "height": 323
        },
        "outputId": "3b580717-ba58-4284-dddc-5e7aa71aae2e"
      },
      "source": [
        "input_word = Input(shape = (max_len,))\n",
        "model = Embedding(input_dim = num_words,output_dim = max_len,input_length = max_len)(input_word)\n",
        "model = SpatialDropout1D(0.1)(model)\n",
        "model = Bidirectional(LSTM(units=100,return_sequences = True, recurrent_dropout = 0.1))(model)\n",
        "out = TimeDistributed(Dense(num_words_tag,activation = 'softmax'))(model)\n",
        "model = Model(input_word,out)\n",
        "model.summary()"
      ],
      "execution_count": 45,
      "outputs": [
        {
          "output_type": "stream",
          "text": [
            "Model: \"functional_1\"\n",
            "_________________________________________________________________\n",
            "Layer (type)                 Output Shape              Param #   \n",
            "=================================================================\n",
            "input_2 (InputLayer)         [(None, 50)]              0         \n",
            "_________________________________________________________________\n",
            "embedding_1 (Embedding)      (None, 50, 50)            1758950   \n",
            "_________________________________________________________________\n",
            "spatial_dropout1d (SpatialDr (None, 50, 50)            0         \n",
            "_________________________________________________________________\n",
            "bidirectional_1 (Bidirection (None, 50, 200)           120800    \n",
            "_________________________________________________________________\n",
            "time_distributed_1 (TimeDist (None, 50, 17)            3417      \n",
            "=================================================================\n",
            "Total params: 1,883,167\n",
            "Trainable params: 1,883,167\n",
            "Non-trainable params: 0\n",
            "_________________________________________________________________\n"
          ],
          "name": "stdout"
        }
      ]
    },
    {
      "cell_type": "code",
      "metadata": {
        "id": "YFMK3MTt6OiE",
        "colab_type": "code",
        "colab": {}
      },
      "source": [
        "model.compile(optimizer = 'adam',loss = 'categorical_crossentropy',metrics = ['accuracy'])"
      ],
      "execution_count": 46,
      "outputs": []
    },
    {
      "cell_type": "code",
      "metadata": {
        "id": "8LHT4CHh6Rzg",
        "colab_type": "code",
        "colab": {
          "base_uri": "https://localhost:8080/",
          "height": 139
        },
        "outputId": "31462824-3c6a-4500-96e0-85f3c820d7c8"
      },
      "source": [
        "from tensorflow.keras.callbacks import ModelCheckpoint, EarlyStopping \n",
        "# from livelossplot import PlotLossesKeras\n",
        "early_stopping = EarlyStopping(monitor = 'val_accuracy',patience =2,verbose = 0,mode = 'max',restore_best_weights = False)\n",
        "callbacks = [early_stopping]\n",
        "\n",
        "history = model.fit(\n",
        "    x_train,np.array(y_train),\n",
        "    validation_split =0.2,\n",
        "    batch_size = 64,\n",
        "    epochs = 3,\n",
        "    verbose =1\n",
        ")"
      ],
      "execution_count": 47,
      "outputs": [
        {
          "output_type": "stream",
          "text": [
            "Epoch 1/3\n",
            "540/540 [==============================] - 148s 274ms/step - loss: 0.2686 - accuracy: 0.9428 - val_loss: 0.1184 - val_accuracy: 0.9665\n",
            "Epoch 2/3\n",
            "540/540 [==============================] - 147s 272ms/step - loss: 0.0775 - accuracy: 0.9783 - val_loss: 0.0598 - val_accuracy: 0.9825\n",
            "Epoch 3/3\n",
            "540/540 [==============================] - 146s 271ms/step - loss: 0.0479 - accuracy: 0.9859 - val_loss: 0.0519 - val_accuracy: 0.9843\n"
          ],
          "name": "stdout"
        }
      ]
    },
    {
      "cell_type": "code",
      "metadata": {
        "id": "BDuwQKrO6bf5",
        "colab_type": "code",
        "colab": {
          "base_uri": "https://localhost:8080/",
          "height": 51
        },
        "outputId": "19baceaf-2cf7-4f6a-8988-1782153c6ac5"
      },
      "source": [
        "model.evaluate(x_test,np.array(y_test))"
      ],
      "execution_count": 48,
      "outputs": [
        {
          "output_type": "stream",
          "text": [
            "150/150 [==============================] - 4s 26ms/step - loss: 0.0539 - accuracy: 0.9842\n"
          ],
          "name": "stdout"
        },
        {
          "output_type": "execute_result",
          "data": {
            "text/plain": [
              "[0.05392305180430412, 0.9841659665107727]"
            ]
          },
          "metadata": {
            "tags": []
          },
          "execution_count": 48
        }
      ]
    },
    {
      "cell_type": "code",
      "metadata": {
        "id": "JVHCb5Vp6icL",
        "colab_type": "code",
        "colab": {
          "base_uri": "https://localhost:8080/",
          "height": 918
        },
        "outputId": "16287132-afe7-43f5-e974-c7dad10e9c2d"
      },
      "source": [
        "i = np.random.randint(0, x_test.shape[0])\n",
        "p = model.predict(np.array([x_test[i]]))\n",
        "# print(np.shape(p))\n",
        "# print(p)\n",
        "p = np.argmax(p, axis=-1)\n",
        "\n",
        "\n",
        "y_true = np.argmax(np.array(y_test), axis=-1)[i]\n",
        "\n",
        "print(\"{:15}{:5}\\t{}\\n\".format(\"Word\", \"True\", \"Pred\"))\n",
        "print(\"-\"*30)\n",
        "\n",
        "for (w, t, pred) in zip(x_test[i], y_true, p[0]):\n",
        "    print(\"{:15}{}\\t{}\".format(words[w-1], words_tag[t], words_tag[pred]))"
      ],
      "execution_count": 49,
      "outputs": [
        {
          "output_type": "stream",
          "text": [
            "Word           True \tPred\n",
            "\n",
            "------------------------------\n",
            "Sri            B-per\tB-per\n",
            "Lankan         I-per\tI-per\n",
            "officials      O\tO\n",
            "say            O\tO\n",
            "suspected      O\tO\n",
            "Tamil          B-org\tB-org\n",
            "Tiger          I-org\tI-org\n",
            "rebels         O\tO\n",
            "have           O\tO\n",
            "detonated      O\tO\n",
            "a              O\tO\n",
            "mine           O\tO\n",
            "in             O\tO\n",
            "northern       O\tO\n",
            "Sri            B-geo\tB-geo\n",
            "Lanka          I-geo\tI-geo\n",
            ",              O\tO\n",
            "killing        O\tO\n",
            "two            O\tO\n",
            "sailors        O\tO\n",
            "and            O\tO\n",
            "wounding       O\tO\n",
            "another        O\tO\n",
            ".              O\tO\n",
            "Zeal           O\tO\n",
            "Zeal           O\tO\n",
            "Zeal           O\tO\n",
            "Zeal           O\tO\n",
            "Zeal           O\tO\n",
            "Zeal           O\tO\n",
            "Zeal           O\tO\n",
            "Zeal           O\tO\n",
            "Zeal           O\tO\n",
            "Zeal           O\tO\n",
            "Zeal           O\tO\n",
            "Zeal           O\tO\n",
            "Zeal           O\tO\n",
            "Zeal           O\tO\n",
            "Zeal           O\tO\n",
            "Zeal           O\tO\n",
            "Zeal           O\tO\n",
            "Zeal           O\tO\n",
            "Zeal           O\tO\n",
            "Zeal           O\tO\n",
            "Zeal           O\tO\n",
            "Zeal           O\tO\n",
            "Zeal           O\tO\n",
            "Zeal           O\tO\n",
            "Zeal           O\tO\n",
            "Zeal           O\tO\n"
          ],
          "name": "stdout"
        }
      ]
    },
    {
      "cell_type": "code",
      "metadata": {
        "id": "UAZvUTjY6jLZ",
        "colab_type": "code",
        "colab": {}
      },
      "source": [
        ""
      ],
      "execution_count": null,
      "outputs": []
    },
    {
      "cell_type": "code",
      "metadata": {
        "id": "jE4xdQWr6jFc",
        "colab_type": "code",
        "colab": {}
      },
      "source": [
        ""
      ],
      "execution_count": null,
      "outputs": []
    }
  ]
}